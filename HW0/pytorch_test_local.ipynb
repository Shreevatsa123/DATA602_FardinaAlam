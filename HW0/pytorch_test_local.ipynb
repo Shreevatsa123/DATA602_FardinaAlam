{
 "cells": [
  {
   "cell_type": "code",
   "execution_count": 3,
   "id": "2ec64098",
   "metadata": {},
   "outputs": [
    {
     "name": "stdout",
     "output_type": "stream",
     "text": [
      "PyTorch Version:  <module 'torch.version' from 'c:\\\\Users\\\\ratna\\\\anaconda3\\\\Lib\\\\site-packages\\\\torch\\\\version.py'>\n",
      "GPU Available:  False\n",
      "CPU Available:  True\n"
     ]
    }
   ],
   "source": [
    "import torch\n",
    "print(\"PyTorch Version: \", torch.version)\n",
    "print(\"GPU Available: \", torch.cuda.is_available())\n",
    "print(\"CPU Available: \", torch.cpu.is_available())"
   ]
  }
 ],
 "metadata": {
  "kernelspec": {
   "display_name": "base",
   "language": "python",
   "name": "python3"
  },
  "language_info": {
   "codemirror_mode": {
    "name": "ipython",
    "version": 3
   },
   "file_extension": ".py",
   "mimetype": "text/x-python",
   "name": "python",
   "nbconvert_exporter": "python",
   "pygments_lexer": "ipython3",
   "version": "3.12.7"
  }
 },
 "nbformat": 4,
 "nbformat_minor": 5
}
